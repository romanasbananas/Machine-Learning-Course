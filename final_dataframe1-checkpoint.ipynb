{
 "cells": [
  {
   "cell_type": "code",
   "execution_count": 7,
   "id": "0c2c67f3-f344-47f5-9f1c-8f39303724a7",
   "metadata": {},
   "outputs": [],
   "source": [
    "import pandas as pd\n",
    "slice1 = playstore.iloc[0:3, [1, 5, 10, 12]]  # Первые три строки исходного датафрейма\n",
    "slice2 = playstore.iloc[5:8, [1, 5, 10, 12]]  # Строки с 6 по 8 (включительно)\n",
    "slice3 = playstore.iloc[15:19, [1, 5, 10, 12]]  # Строки с 16 по 19 (включительно)\n",
    "final_df = pd.concat([slice1, slice2, slice3])\n",
    "final_df.to_csv('final_dataframe.csv', index=True)"
   ]
  }
 ],
 "metadata": {
  "kernelspec": {
   "display_name": "Python 3 (ipykernel)",
   "language": "python",
   "name": "python3"
  },
  "language_info": {
   "codemirror_mode": {
    "name": "ipython",
    "version": 3
   },
   "file_extension": ".py",
   "mimetype": "text/x-python",
   "name": "python",
   "nbconvert_exporter": "python",
   "pygments_lexer": "ipython3",
   "version": "3.11.4"
  }
 },
 "nbformat": 4,
 "nbformat_minor": 5
}
