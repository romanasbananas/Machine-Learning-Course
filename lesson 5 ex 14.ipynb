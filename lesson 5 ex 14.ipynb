{
 "cells": [
  {
   "cell_type": "code",
   "execution_count": 60,
   "id": "c4407260-9735-42bb-8150-6cc9a4232d0d",
   "metadata": {},
   "outputs": [],
   "source": [
    "import pandas as pd\n",
    "data = pd.read_csv('C:/Users/Роман/Desktop/Carpov Course StartML/data.csv')\n"
   ]
  },
  {
   "cell_type": "code",
   "execution_count": 61,
   "id": "39868cc5-bcb7-420b-a89b-b6c78f29ba62",
   "metadata": {},
   "outputs": [
    {
     "name": "stdout",
     "output_type": "stream",
     "text": [
      "2, 21, 22, 23, 24\n"
     ]
    }
   ],
   "source": [
    "data['dateAdded'] = pd.to_datetime(data['dateAdded'])\n",
    "data['openingMonth'] = data['dateAdded'].dt.month\n",
    "r = data[data['openingMonth'] == 10]\n",
    "indexes_october = r.index[:5]\n",
    "answer = \", \".join(map(str, sorted(indexes_october)))\n",
    "print(answer)\n",
    "\n",
    "\n"
   ]
  },
  {
   "cell_type": "code",
   "execution_count": null,
   "id": "bf16e37a-2ea9-47c2-b626-8c5e032d42fe",
   "metadata": {},
   "outputs": [],
   "source": [
    "df['dateAdded'] == pd.to_datetime(df['dateAdded'])\n",
    "df['openingMonth'] = df['dateAdded'].dt.month\n",
    "r = df[df['openingMonth'] == 10]\n",
    "indexes_october = r.index(:5)\n",
    "answer = ','.join(map(str, sorted(indexes_october)))\n",
    "print(answer)"
   ]
  },
  {
   "cell_type": "code",
   "execution_count": null,
   "id": "346864ba-d1a1-4453-9795-66d67a77d25d",
   "metadata": {},
   "outputs": [],
   "source": []
  }
 ],
 "metadata": {
  "kernelspec": {
   "display_name": "Python 3 (ipykernel)",
   "language": "python",
   "name": "python3"
  },
  "language_info": {
   "codemirror_mode": {
    "name": "ipython",
    "version": 3
   },
   "file_extension": ".py",
   "mimetype": "text/x-python",
   "name": "python",
   "nbconvert_exporter": "python",
   "pygments_lexer": "ipython3",
   "version": "3.11.4"
  }
 },
 "nbformat": 4,
 "nbformat_minor": 5
}
