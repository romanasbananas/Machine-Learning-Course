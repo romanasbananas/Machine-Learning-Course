{
 "cells": [
  {
   "cell_type": "code",
   "execution_count": 2,
   "id": "eb0cd0b3-f912-4625-b981-426187edc403",
   "metadata": {},
   "outputs": [],
   "source": [
    "import pandas as pd\n",
    "data = pd.read_csv('C:/Users/Роман/Desktop/Carpov Course StartML/data.csv')\n",
    "# 1. Отбор записей с более чем 20 категориями\n",
    "filtered_data = data[data['categories'].str.split(',').apply(len) > 20]\n",
    "\n",
    "# 2. Группировка отфильтрованных записей по провинциям и подсчет минимального значения longitude\n",
    "grouped_data = filtered_data.groupby('province')['longitude'].min().reset_index()\n",
    "\n",
    "# 3. Округление значений longitude до трех знаков после запятой\n",
    "grouped_data['longitude'] = grouped_data['longitude'].round(3)\n",
    "\n",
    "# 4. Сохранение результата в CSV файл\n",
    "grouped_data.to_csv('result.csv', sep=';', index=False)\n"
   ]
  },
  {
   "cell_type": "code",
   "execution_count": null,
   "id": "f3544640-b3db-4583-aadf-c974f3d76274",
   "metadata": {},
   "outputs": [],
   "source": []
  }
 ],
 "metadata": {
  "kernelspec": {
   "display_name": "Python 3 (ipykernel)",
   "language": "python",
   "name": "python3"
  },
  "language_info": {
   "codemirror_mode": {
    "name": "ipython",
    "version": 3
   },
   "file_extension": ".py",
   "mimetype": "text/x-python",
   "name": "python",
   "nbconvert_exporter": "python",
   "pygments_lexer": "ipython3",
   "version": "3.11.4"
  }
 },
 "nbformat": 4,
 "nbformat_minor": 5
}
