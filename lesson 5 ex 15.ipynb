{
 "cells": [
  {
   "cell_type": "code",
   "execution_count": 30,
   "id": "1ff78ed4-6f8d-411e-bf22-970213119504",
   "metadata": {},
   "outputs": [],
   "source": [
    "import pandas as pd\n",
    "data = pd.read_csv('C:/Users/Роман/Desktop/Carpov Course StartML/data.csv')\n"
   ]
  },
  {
   "cell_type": "code",
   "execution_count": 33,
   "id": "82845176-09af-41c3-b0a8-0c9c91573e38",
   "metadata": {},
   "outputs": [
    {
     "name": "stdout",
     "output_type": "stream",
     "text": [
      "             id\n",
      "dateAdded      \n",
      "1           308\n",
      "2           257\n",
      "3          4970\n",
      "4          3224\n",
      "5          1141\n",
      "6          1356\n",
      "7           645\n",
      "8           479\n",
      "9           554\n",
      "10         4716\n",
      "11         1550\n",
      "12          239\n"
     ]
    }
   ],
   "source": [
    "import pandas as pd \n",
    "# Преобразование столбца dateAdded в формат datetime\n",
    "data['dateAdded'] = pd.to_datetime(data['dateAdded'])\n",
    "\n",
    "# Группировка по месяцам и подсчет уникальных идентификаторов ресторанов в каждом месяце\n",
    "result = data.groupby(data['dateAdded'].dt.month).agg({'id': 'nunique'})\n",
    "# Вывод результата\n",
    "print(result)\n",
    "\n",
    "\n"
   ]
  },
  {
   "cell_type": "code",
   "execution_count": null,
   "id": "50f53600-1f1d-46b4-8b3e-35e6f9d68746",
   "metadata": {},
   "outputs": [],
   "source": []
  }
 ],
 "metadata": {
  "kernelspec": {
   "display_name": "Python 3 (ipykernel)",
   "language": "python",
   "name": "python3"
  },
  "language_info": {
   "codemirror_mode": {
    "name": "ipython",
    "version": 3
   },
   "file_extension": ".py",
   "mimetype": "text/x-python",
   "name": "python",
   "nbconvert_exporter": "python",
   "pygments_lexer": "ipython3",
   "version": "3.11.4"
  }
 },
 "nbformat": 4,
 "nbformat_minor": 5
}
