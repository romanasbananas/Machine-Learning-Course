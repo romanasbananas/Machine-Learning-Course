{
 "cells": [
  {
   "cell_type": "code",
   "execution_count": 8,
   "id": "db43e0d0-0d3e-4721-b6bf-ccae91f62e3e",
   "metadata": {},
   "outputs": [],
   "source": [
    "import pandas as pd\n",
    "data = pd.read_csv('C:/Users/Роман/Desktop/Carpov Course StartML/data.csv')\n"
   ]
  },
  {
   "cell_type": "code",
   "execution_count": 12,
   "id": "8b5140b8-dabb-4d53-b317-5621968eaa3d",
   "metadata": {},
   "outputs": [],
   "source": [
    "import pandas as pd\n",
    "\n",
    "# Преобразование столбцов к типу datetime\n",
    "data[['dateUpdated', 'dateAdded']] = data[['dateUpdated', 'dateAdded']].apply(pd.to_datetime)\n",
    "\n",
    "# Вычисление разницы между датами и перевод ее в дни\n",
    "data['update_delta'] = (data['dateUpdated'] - data['dateAdded']).dt.days\n",
    "\n",
    "# Группировка данных по городам\n",
    "grouped_data = data.groupby('city')\n",
    "\n",
    "# Вычисление среднего значения update_delta и максимальной широты для каждого города\n",
    "result = grouped_data.agg({'update_delta': 'mean', 'latitude': 'max'}).reset_index()\n",
    "\n",
    "# Вычисление среднего значения update_delta для города Zephyrhills\n",
    "zep_mean = grouped_data.get_group('Zephyrhills')['update_delta'].mean()\n"
   ]
  },
  {
   "cell_type": "code",
   "execution_count": null,
   "id": "5764d752-f129-47c3-90b1-6a83505885ce",
   "metadata": {},
   "outputs": [],
   "source": []
  }
 ],
 "metadata": {
  "kernelspec": {
   "display_name": "Python 3 (ipykernel)",
   "language": "python",
   "name": "python3"
  },
  "language_info": {
   "codemirror_mode": {
    "name": "ipython",
    "version": 3
   },
   "file_extension": ".py",
   "mimetype": "text/x-python",
   "name": "python",
   "nbconvert_exporter": "python",
   "pygments_lexer": "ipython3",
   "version": "3.11.4"
  }
 },
 "nbformat": 4,
 "nbformat_minor": 5
}
