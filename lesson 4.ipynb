{
 "cells": [
  {
   "cell_type": "markdown",
   "id": "1e937323-8617-4963-b63e-f149ed82e0ac",
   "metadata": {},
   "source": [
    " Cell In[25], line 3\r\n",
    "    Этот текст будет выделен *курсивом*.\r\n",
    "         *курсив*  \r\n",
    "_курсив_\r\n",
    "\r\n",
    "**жирный**  \r\n",
    "__жирны\\\\\\`markdown\r\n",
    "Этот текст будет в моноширинном шрифте.\r\n",
    "\\\\\\`й__\r\n",
    "\r\n",
    "***жирный курсив***  \r\n",
    "___жирный курсив___tax"
   ]
  },
  {
   "cell_type": "code",
   "execution_count": null,
   "id": "69cf9a05-acbd-43bb-a12b-06197cf67531",
   "metadata": {},
   "outputs": [],
   "source": []
  },
  {
   "cell_type": "code",
   "execution_count": null,
   "id": "d41e5fc3-d38b-4af1-a08e-72ab200b3032",
   "metadata": {},
   "outputs": [],
   "source": []
  }
 ],
 "metadata": {
  "kernelspec": {
   "display_name": "Python 3 (ipykernel)",
   "language": "python",
   "name": "python3"
  },
  "language_info": {
   "codemirror_mode": {
    "name": "ipython",
    "version": 3
   },
   "file_extension": ".py",
   "mimetype": "text/x-python",
   "name": "python",
   "nbconvert_exporter": "python",
   "pygments_lexer": "ipython3",
   "version": "3.11.7"
  }
 },
 "nbformat": 4,
 "nbformat_minor": 5
}
