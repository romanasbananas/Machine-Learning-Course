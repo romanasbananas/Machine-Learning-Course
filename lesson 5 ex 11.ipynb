{
 "cells": [
  {
   "cell_type": "code",
   "execution_count": 1,
   "id": "a3307ec8-3000-4246-9ba3-a1a5a1d90d4c",
   "metadata": {},
   "outputs": [],
   "source": [
    "import pandas as pd\n",
    "df = pd.read_csv('data.csv')"
   ]
  },
  {
   "cell_type": "code",
   "execution_count": 3,
   "id": "5806c8dc-9460-4c97-b060-eb4c120e9a0f",
   "metadata": {},
   "outputs": [
    {
     "data": {
      "text/plain": [
       "0        Restaurant Delivery Service,Restaurants,Pizza,...\n",
       "1        Restaurant Delivery Service,Restaurants,Pizza,...\n",
       "2             Golf Course, American Restaurant, and Resort\n",
       "3                                     Fast Food Restaurant\n",
       "4        Mexican Restaurant Mid-City West,Mexican Resta...\n",
       "                               ...                        \n",
       "77255                                           Restaurant\n",
       "77256                                           Restaurant\n",
       "77257                                           Restaurant\n",
       "77258                                           Restaurant\n",
       "77259                                           Restaurant\n",
       "Name: categories, Length: 77260, dtype: object"
      ]
     },
     "execution_count": 3,
     "metadata": {},
     "output_type": "execute_result"
    }
   ],
   "source": [
    "df['categories']"
   ]
  },
  {
   "cell_type": "code",
   "execution_count": 4,
   "id": "85211cb0-ba7c-49ed-b6a8-5bfc33c7d6f7",
   "metadata": {},
   "outputs": [
    {
     "data": {
      "text/html": [
       "<div>\n",
       "<style scoped>\n",
       "    .dataframe tbody tr th:only-of-type {\n",
       "        vertical-align: middle;\n",
       "    }\n",
       "\n",
       "    .dataframe tbody tr th {\n",
       "        vertical-align: top;\n",
       "    }\n",
       "\n",
       "    .dataframe thead th {\n",
       "        text-align: right;\n",
       "    }\n",
       "</style>\n",
       "<table border=\"1\" class=\"dataframe\">\n",
       "  <thead>\n",
       "    <tr style=\"text-align: right;\">\n",
       "      <th></th>\n",
       "      <th>categories</th>\n",
       "    </tr>\n",
       "  </thead>\n",
       "  <tbody>\n",
       "    <tr>\n",
       "      <th>0</th>\n",
       "      <td>Restaurant Delivery Service,Restaurants,Pizza,...</td>\n",
       "    </tr>\n",
       "    <tr>\n",
       "      <th>1</th>\n",
       "      <td>Restaurant Delivery Service,Restaurants,Pizza,...</td>\n",
       "    </tr>\n",
       "    <tr>\n",
       "      <th>2</th>\n",
       "      <td>Golf Course, American Restaurant, and Resort</td>\n",
       "    </tr>\n",
       "    <tr>\n",
       "      <th>3</th>\n",
       "      <td>Fast Food Restaurant</td>\n",
       "    </tr>\n",
       "    <tr>\n",
       "      <th>4</th>\n",
       "      <td>Mexican Restaurant Mid-City West,Mexican Resta...</td>\n",
       "    </tr>\n",
       "    <tr>\n",
       "      <th>...</th>\n",
       "      <td>...</td>\n",
       "    </tr>\n",
       "    <tr>\n",
       "      <th>77255</th>\n",
       "      <td>Restaurant</td>\n",
       "    </tr>\n",
       "    <tr>\n",
       "      <th>77256</th>\n",
       "      <td>Restaurant</td>\n",
       "    </tr>\n",
       "    <tr>\n",
       "      <th>77257</th>\n",
       "      <td>Restaurant</td>\n",
       "    </tr>\n",
       "    <tr>\n",
       "      <th>77258</th>\n",
       "      <td>Restaurant</td>\n",
       "    </tr>\n",
       "    <tr>\n",
       "      <th>77259</th>\n",
       "      <td>Restaurant</td>\n",
       "    </tr>\n",
       "  </tbody>\n",
       "</table>\n",
       "<p>77260 rows × 1 columns</p>\n",
       "</div>"
      ],
      "text/plain": [
       "                                              categories\n",
       "0      Restaurant Delivery Service,Restaurants,Pizza,...\n",
       "1      Restaurant Delivery Service,Restaurants,Pizza,...\n",
       "2           Golf Course, American Restaurant, and Resort\n",
       "3                                   Fast Food Restaurant\n",
       "4      Mexican Restaurant Mid-City West,Mexican Resta...\n",
       "...                                                  ...\n",
       "77255                                         Restaurant\n",
       "77256                                         Restaurant\n",
       "77257                                         Restaurant\n",
       "77258                                         Restaurant\n",
       "77259                                         Restaurant\n",
       "\n",
       "[77260 rows x 1 columns]"
      ]
     },
     "execution_count": 4,
     "metadata": {},
     "output_type": "execute_result"
    }
   ],
   "source": [
    "df[['categories']]"
   ]
  },
  {
   "cell_type": "code",
   "execution_count": null,
   "id": "89fd428d-84a0-449c-bf2d-a8278b0d7787",
   "metadata": {},
   "outputs": [],
   "source": []
  }
 ],
 "metadata": {
  "kernelspec": {
   "display_name": "Python 3 (ipykernel)",
   "language": "python",
   "name": "python3"
  },
  "language_info": {
   "codemirror_mode": {
    "name": "ipython",
    "version": 3
   },
   "file_extension": ".py",
   "mimetype": "text/x-python",
   "name": "python",
   "nbconvert_exporter": "python",
   "pygments_lexer": "ipython3",
   "version": "3.11.4"
  }
 },
 "nbformat": 4,
 "nbformat_minor": 5
}
