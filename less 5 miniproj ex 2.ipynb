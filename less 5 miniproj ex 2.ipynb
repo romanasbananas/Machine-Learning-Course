{
 "cells": [
  {
   "cell_type": "code",
   "execution_count": 10,
   "id": "3d9917c6-db99-4da2-9105-0c8b5ac861b1",
   "metadata": {},
   "outputs": [],
   "source": [
    "import pandas as pd\n",
    "playstore = pd.read_csv('C:\\\\Users\\\\Роман\\\\Desktop\\\\Carpov Course StartML\\\\playstore.csv')\n"
   ]
  },
  {
   "cell_type": "code",
   "execution_count": 13,
   "id": "08c1ad01-80ab-4259-9450-d3931b8dcc63",
   "metadata": {},
   "outputs": [
    {
     "name": "stdout",
     "output_type": "stream",
     "text": [
      "   Unnamed: 0                                                App  \\\n",
      "0           0     Photo Editor & Candy Camera & Grid & ScrapBook   \n",
      "1           1                                Coloring book moana   \n",
      "2           2  U Launcher Lite – FREE Live Cool Themes, Hide ...   \n",
      "\n",
      "         Category  Rating  Reviews  Size    Installs  Type Price  \\\n",
      "0  ART_AND_DESIGN     4.1      159   19M     10,000+  Free     0   \n",
      "1  ART_AND_DESIGN     3.9      967   14M    500,000+  Free     0   \n",
      "2  ART_AND_DESIGN     4.7    87510  8.7M  5,000,000+  Free     0   \n",
      "\n",
      "  Content Rating                     Genres      Last Updated Current Ver  \\\n",
      "0       Everyone               Art & Design   January 7, 2018       1.0.0   \n",
      "1       Everyone  Art & Design;Pretend Play  January 15, 2018       2.0.0   \n",
      "2       Everyone               Art & Design    August 1, 2018       1.2.4   \n",
      "\n",
      "    Android Ver  \n",
      "0  4.0.3 and up  \n",
      "1  4.0.3 and up  \n",
      "2  4.0.3 and up          Unnamed: 0                                            App  \\\n",
      "10837       10837                         Parkinson Exercices FR   \n",
      "10838       10838                  The SCP Foundation DB fr nn5n   \n",
      "10839       10839  iHoroscope - 2018 Daily Horoscope & Astrology   \n",
      "\n",
      "                  Category  Rating  Reviews                Size     Installs  \\\n",
      "10837              MEDICAL     NaN        3                9.5M       1,000+   \n",
      "10838  BOOKS_AND_REFERENCE     4.5      114  Varies with device       1,000+   \n",
      "10839            LIFESTYLE     4.5   398307                 19M  10,000,000+   \n",
      "\n",
      "       Type Price Content Rating             Genres      Last Updated  \\\n",
      "10837  Free     0       Everyone            Medical  January 20, 2017   \n",
      "10838  Free     0     Mature 17+  Books & Reference  January 19, 2015   \n",
      "10839  Free     0       Everyone          Lifestyle     July 25, 2018   \n",
      "\n",
      "              Current Ver         Android Ver  \n",
      "10837                 1.0          2.2 and up  \n",
      "10838  Varies with device  Varies with device  \n",
      "10839  Varies with device  Varies with device  \n"
     ]
    }
   ],
   "source": [
    "data_head = playstore.head(3)\n",
    "data_tail = playstore.tail(3)\n"
   ]
  },
  {
   "cell_type": "code",
   "execution_count": null,
   "id": "7bf31a21-4905-4106-ad3f-6ec8b54c88c6",
   "metadata": {},
   "outputs": [],
   "source": []
  }
 ],
 "metadata": {
  "kernelspec": {
   "display_name": "Python 3 (ipykernel)",
   "language": "python",
   "name": "python3"
  },
  "language_info": {
   "codemirror_mode": {
    "name": "ipython",
    "version": 3
   },
   "file_extension": ".py",
   "mimetype": "text/x-python",
   "name": "python",
   "nbconvert_exporter": "python",
   "pygments_lexer": "ipython3",
   "version": "3.11.4"
  }
 },
 "nbformat": 4,
 "nbformat_minor": 5
}
