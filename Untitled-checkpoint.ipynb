{
 "cells": [
  {
   "cell_type": "markdown",
   "id": "7a8cfa0b-3a7f-406d-814d-8945666d0abd",
   "metadata": {},
   "source": [
    "Описание данных:\r\n",
    "id - уникальный идентификатор заведения\r\n",
    "address - физический адрес заведения\r\n",
    "categories - категории заведения (например, \"Fast food restaurant\").\r\n",
    "city - город, в котором заведение находится.\r\n",
    "cuisines - кухни, которые практикуются в заведении. Например \"Mexican\".\r\n",
    "dateAdded - дата добавления записи. Будем считать, что она совпадает с датой открытия заведения.\r\n",
    "dateUpdated - дата обновления информации о заведении.\r\n",
    "latitude - географическая широта.\r\n",
    "longitude - географическая долгота.\r\n",
    "menus.category - категории пищи в меню.\r\n",
    "menus.currency - валюта, в которой принимают оплату.\r\n",
    "menus.dateSeen - дата, когда было заведено это меню.\r\n",
    "menus.description - описание меню от заведения.\r\n",
    "menus.name - название меню.\r\n",
    "name - название заведения.\r\n",
    "province - область (штат), где находится заведение."
   ]
  }
 ],
 "metadata": {
  "kernelspec": {
   "display_name": "Python 3 (ipykernel)",
   "language": "python",
   "name": "python3"
  },
  "language_info": {
   "codemirror_mode": {
    "name": "ipython",
    "version": 3
   },
   "file_extension": ".py",
   "mimetype": "text/x-python",
   "name": "python",
   "nbconvert_exporter": "python",
   "pygments_lexer": "ipython3",
   "version": "3.11.4"
  }
 },
 "nbformat": 4,
 "nbformat_minor": 5
}
