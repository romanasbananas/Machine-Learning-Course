{
 "cells": [
  {
   "cell_type": "code",
   "execution_count": 3,
   "id": "37252f4b-97a3-4b69-ae94-c4d7380efc42",
   "metadata": {},
   "outputs": [],
   "source": [
    "import pandas as pd\n",
    "playstore = pd.read_csv('C:\\\\Users\\\\Роман\\\\Desktop\\\\Carpov Course StartML\\\\playstore.csv')\n"
   ]
  },
  {
   "cell_type": "code",
   "execution_count": 5,
   "id": "b3e6ba81-5171-4109-a17b-b3a1a3f8783e",
   "metadata": {},
   "outputs": [],
   "source": [
    "\n",
    "n_row, n_col = playstore.shape"
   ]
  },
  {
   "cell_type": "code",
   "execution_count": null,
   "id": "9d1d0e78-bebf-4d54-bd5d-2547371c344e",
   "metadata": {},
   "outputs": [],
   "source": []
  }
 ],
 "metadata": {
  "kernelspec": {
   "display_name": "Python 3 (ipykernel)",
   "language": "python",
   "name": "python3"
  },
  "language_info": {
   "codemirror_mode": {
    "name": "ipython",
    "version": 3
   },
   "file_extension": ".py",
   "mimetype": "text/x-python",
   "name": "python",
   "nbconvert_exporter": "python",
   "pygments_lexer": "ipython3",
   "version": "3.11.4"
  }
 },
 "nbformat": 4,
 "nbformat_minor": 5
}
