{
 "cells": [
  {
   "cell_type": "code",
   "execution_count": 46,
   "id": "3a723cc5-9133-48bc-af8e-43a0384cc34e",
   "metadata": {},
   "outputs": [],
   "source": [
    "import pandas as pd\n",
    "df = pd.read_csv('C:/Users/Роман/Desktop/Carpov Course StartML/data.csv')\n"
   ]
  },
  {
   "cell_type": "code",
   "execution_count": 67,
   "id": "fc3d99ce-ad40-4b79-a249-b64695562ac3",
   "metadata": {},
   "outputs": [
    {
     "name": "stdout",
     "output_type": "stream",
     "text": [
      "Index(['San Diego', 'Los Angeles', 'Chicago', 'San Francisco', 'New York'], dtype='object')\n"
     ]
    }
   ],
   "source": [
    "result = df['city'].value_counts().head()\n",
    "print(result.index)\n",
    "\n"
   ]
  },
  {
   "cell_type": "code",
   "execution_count": null,
   "id": "73e257e5-8066-4e3f-a219-1ac157b25330",
   "metadata": {},
   "outputs": [],
   "source": []
  }
 ],
 "metadata": {
  "kernelspec": {
   "display_name": "Python 3 (ipykernel)",
   "language": "python",
   "name": "python3"
  },
  "language_info": {
   "codemirror_mode": {
    "name": "ipython",
    "version": 3
   },
   "file_extension": ".py",
   "mimetype": "text/x-python",
   "name": "python",
   "nbconvert_exporter": "python",
   "pygments_lexer": "ipython3",
   "version": "3.11.4"
  }
 },
 "nbformat": 4,
 "nbformat_minor": 5
}
