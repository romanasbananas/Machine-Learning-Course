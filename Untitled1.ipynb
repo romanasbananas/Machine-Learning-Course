{
 "cells": [
  {
   "cell_type": "code",
   "execution_count": 14,
   "id": "1f75b5dc-5995-430d-a493-816e6c193c7b",
   "metadata": {},
   "outputs": [
    {
     "name": "stderr",
     "output_type": "stream",
     "text": [
      "UsageError: Line magic function `%%timeit` not found.\n"
     ]
    }
   ],
   "source": [
    "vec1 = list(range(int(1e5)))\n",
    "%%timeit\n",
    "list(i*i for i in vec1)\n"
   ]
  },
  {
   "cell_type": "code",
   "execution_count": 20,
   "id": "b65407c5-40f4-45f0-a165-1d6b71ecb659",
   "metadata": {},
   "outputs": [
    {
     "name": "stdout",
     "output_type": "stream",
     "text": [
      "Time taken: 0.010296899999957532 seconds\n"
     ]
    }
   ],
   "source": [
    "import timeit\n",
    "\n",
    "vec1 = list(range(int(1e5)))\n",
    "\n",
    "time_taken = timeit.timeit('list(i*i for i in vec1)', globals=globals(), number=1)\n",
    "print(f\"Time taken: {time_taken} seconds\")\n"
   ]
  },
  {
   "cell_type": "code",
   "execution_count": null,
   "id": "a6a1ffba-6ab5-4556-9b15-69ea753f283b",
   "metadata": {},
   "outputs": [],
   "source": []
  },
  {
   "cell_type": "code",
   "execution_count": null,
   "id": "53278ee8-2ec8-4dcb-aad9-af4b1c331235",
   "metadata": {},
   "outputs": [],
   "source": []
  },
  {
   "cell_type": "code",
   "execution_count": null,
   "id": "64c8ee6e-ac3e-41c4-a342-1cde406623b9",
   "metadata": {},
   "outputs": [],
   "source": []
  }
 ],
 "metadata": {
  "kernelspec": {
   "display_name": "Python 3 (ipykernel)",
   "language": "python",
   "name": "python3"
  },
  "language_info": {
   "codemirror_mode": {
    "name": "ipython",
    "version": 3
   },
   "file_extension": ".py",
   "mimetype": "text/x-python",
   "name": "python",
   "nbconvert_exporter": "python",
   "pygments_lexer": "ipython3",
   "version": "3.11.4"
  }
 },
 "nbformat": 4,
 "nbformat_minor": 5
}
